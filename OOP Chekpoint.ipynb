{
 "cells": [
  {
   "cell_type": "code",
   "execution_count": 35,
   "id": "f4636d0f",
   "metadata": {},
   "outputs": [],
   "source": [
    "class Point3D:\n",
    "    def __init__(self,x,y,z):\n",
    "        self.x=x\n",
    "        self.y=y\n",
    "        self.z=z\n",
    "    def __repr_(self):\n",
    "        return ('{} , {} , {}'.format(self.x,self.y,self.z))"
   ]
  },
  {
   "cell_type": "code",
   "execution_count": 36,
   "id": "f4d69cd7",
   "metadata": {},
   "outputs": [],
   "source": [
    "poitn=Point3D(1,2,3)"
   ]
  },
  {
   "cell_type": "code",
   "execution_count": 37,
   "id": "80bd326a",
   "metadata": {},
   "outputs": [
    {
     "data": {
      "text/plain": [
       "1 , 2 , 3"
      ]
     },
     "execution_count": 37,
     "metadata": {},
     "output_type": "execute_result"
    }
   ],
   "source": [
    "poitn"
   ]
  },
  {
   "cell_type": "code",
   "execution_count": 16,
   "id": "5f3825f4",
   "metadata": {},
   "outputs": [
    {
     "name": "stdout",
     "output_type": "stream",
     "text": [
      "(1, 2, 3)\n"
     ]
    }
   ],
   "source": [
    "class Point3D(object):\n",
    "    def __init__(self,x,y,z):\n",
    "        self.x=x\n",
    "        self.y=y\n",
    "        self.z=z\n",
    "\n",
    "    def __repr__(self) :\n",
    "        return \"(%d, %d, %d)\" % (self.x, self.y, self.z)\n",
    "\n",
    "\n",
    "\n",
    "my_point=Point3D(1,2,3)\n",
    "print (my_point)"
   ]
  },
  {
   "cell_type": "code",
   "execution_count": 41,
   "id": "467d9b82",
   "metadata": {},
   "outputs": [
    {
     "name": "stdout",
     "output_type": "stream",
     "text": [
      "12\n",
      "14\n"
     ]
    }
   ],
   "source": [
    "class Rectangle():\n",
    "    def __init__(self, l, w):\n",
    "        self.length = l\n",
    "        self.width  = w\n",
    "\n",
    "    def rectangle_area(self):\n",
    "        return self.length*self.width\n",
    "    def rectangle_perimeter(self):\n",
    "        return (self.length+self.width)*2\n",
    "\n",
    "newRectangle = Rectangle(4,3)\n",
    "newRectangle.rectangle_area()\n",
    "newRectangle.rectangle_perimeter()"
   ]
  },
  {
   "cell_type": "code",
   "execution_count": 80,
   "id": "b2f87183",
   "metadata": {},
   "outputs": [],
   "source": [
    "class Circle():\n",
    "    def __init__(self,centre_x,centre_y,r):\n",
    "        self.centre_x = centre_x\n",
    "        self.centre_y = centre_y\n",
    "        self.r = r\n",
    "        \n",
    "    def area(self):\n",
    "        return self.r**2*3.14\n",
    "    \n",
    "    def perimeter(self):\n",
    "        return 2*self.r*3.14\n",
    "    \n",
    "    def isInside(self,x,y):\n",
    "        \n",
    "         if ((x - self.centre_x) * (x - self.centre_x) +\n",
    "            (y - self.centre_y) * (y - self.centre_y) <= self.r * self.r):\n",
    "            return True;\n",
    "         else:\n",
    "            return False;\n"
   ]
  },
  {
   "cell_type": "code",
   "execution_count": 81,
   "id": "b4792c77",
   "metadata": {},
   "outputs": [
    {
     "name": "stdout",
     "output_type": "stream",
     "text": [
      "200.96\n",
      "50.24\n"
     ]
    }
   ],
   "source": [
    "NewCircle = Circle(0,1,8)\n",
    "print(NewCircle.area())\n",
    "print(NewCircle.perimeter())"
   ]
  },
  {
   "cell_type": "code",
   "execution_count": 78,
   "id": "31dbb6fb",
   "metadata": {},
   "outputs": [
    {
     "data": {
      "text/plain": [
       "True"
      ]
     },
     "execution_count": 78,
     "metadata": {},
     "output_type": "execute_result"
    }
   ],
   "source": [
    "NewCircle.isInside(4,2)"
   ]
  },
  {
   "cell_type": "code",
   "execution_count": null,
   "id": "b4f4a4c9",
   "metadata": {},
   "outputs": [],
   "source": [
    "class Bank_Account:\n",
    "    def __init__(self,balance):\n",
    "        self.balance=balance\n",
    "        \n",
    "    def deposit(self):\n",
    "        amount=float(input(\"Enter amount to be deposited: \"))\n",
    "        self.balance =self.balance + amount\n",
    "        print(\"your new balance is {} after deposing {}: \".format(self.balance,amount))\n",
    "        \n",
    "    def withdraw(self):\n",
    "        amount = float(input(\"Enter amount to withdraw: \"))\n",
    "        if self.balance>=amount:\n",
    "            self.balance=self.balance-amount\n",
    "            print(\"your new balance is {} after withdrawing {}: \".format(self.balance,amount))\n",
    "        else:\n",
    "            print(\"Insufficient balance \")"
   ]
  },
  {
   "cell_type": "code",
   "execution_count": null,
   "id": "88bd7935",
   "metadata": {},
   "outputs": [],
   "source": [
    "s = Bank_Account(1000)\n",
    "#calling functions with that class\n",
    "s.deposit()\n",
    "s.withdraw()"
   ]
  },
  {
   "cell_type": "code",
   "execution_count": 103,
   "id": "79b9d816",
   "metadata": {},
   "outputs": [],
   "source": [
    "from math import pi\n",
    "\n",
    "class Circle:\n",
    "    def __init__(self, r,circle_x, circle_y):\n",
    "        self.r = r\n",
    "        self.circle_x = circle_x\n",
    "        self.circle_y = circle_y\n",
    "    def calculater_area(self):\n",
    "        # r * r * pi\n",
    "        return self.r * self.r * pi\n",
    "\n",
    "    def calculater_parameter(self):\n",
    "        # (d= r+r) * p\n",
    "        d = self.r + self.r\n",
    "        return d * pi\n",
    "\n",
    "    def isinside(self, x, y):\n",
    "\n",
    "        calc = ((x - self.circle_x) * (x - self.circle_x) + \n",
    "                (y - self.circle_y) * (y - self.circle_y) <= self.r * self.r)\n",
    "        if calc:\n",
    "            return True"
   ]
  },
  {
   "cell_type": "code",
   "execution_count": 108,
   "id": "ce0acb9b",
   "metadata": {},
   "outputs": [],
   "source": [
    "NewCircle.isinside(10,10)"
   ]
  }
 ],
 "metadata": {
  "kernelspec": {
   "display_name": "Python 3",
   "language": "python",
   "name": "python3"
  },
  "language_info": {
   "codemirror_mode": {
    "name": "ipython",
    "version": 3
   },
   "file_extension": ".py",
   "mimetype": "text/x-python",
   "name": "python",
   "nbconvert_exporter": "python",
   "pygments_lexer": "ipython3",
   "version": "3.8.8"
  }
 },
 "nbformat": 4,
 "nbformat_minor": 5
}
